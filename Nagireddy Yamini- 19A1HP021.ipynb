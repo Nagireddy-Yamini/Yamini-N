{
 "cells": [
  {
   "cell_type": "markdown",
   "metadata": {},
   "source": [
    "# NAGIREDDY YAMINI - 19A1HP021"
   ]
  },
  {
   "cell_type": "code",
   "execution_count": 1,
   "metadata": {},
   "outputs": [],
   "source": [
    "# Importing the libraries\n",
    "import numpy as np\n",
    "import pandas as pd"
   ]
  },
  {
   "cell_type": "code",
   "execution_count": 4,
   "metadata": {},
   "outputs": [],
   "source": [
    "adv = pd.read_csv(r'Advertising.csv')\n",
    "\n",
    "#Reads data into pandas dataframe"
   ]
  },
  {
   "cell_type": "code",
   "execution_count": 5,
   "metadata": {},
   "outputs": [
    {
     "name": "stdout",
     "output_type": "stream",
     "text": [
      "<class 'pandas.core.frame.DataFrame'>\n",
      "RangeIndex: 200 entries, 0 to 199\n",
      "Data columns (total 6 columns):\n",
      " #   Column     Non-Null Count  Dtype  \n",
      "---  ------     --------------  -----  \n",
      " 0   Sno        200 non-null    int64  \n",
      " 1   TV         199 non-null    float64\n",
      " 2   Radio      199 non-null    float64\n",
      " 3   Newspaper  199 non-null    float64\n",
      " 4   Day        197 non-null    object \n",
      " 5   Sales      200 non-null    float64\n",
      "dtypes: float64(4), int64(1), object(1)\n",
      "memory usage: 9.5+ KB\n"
     ]
    }
   ],
   "source": [
    "adv.info()\n",
    "\n",
    "#Gives information about the datatypes found in the dataset"
   ]
  },
  {
   "cell_type": "code",
   "execution_count": 6,
   "metadata": {},
   "outputs": [],
   "source": [
    "adv = adv.dropna()\n",
    "\n",
    "#Drops missing values from the dataset"
   ]
  },
  {
   "cell_type": "code",
   "execution_count": 7,
   "metadata": {},
   "outputs": [
    {
     "name": "stdout",
     "output_type": "stream",
     "text": [
      "<class 'pandas.core.frame.DataFrame'>\n",
      "Int64Index: 197 entries, 0 to 199\n",
      "Data columns (total 6 columns):\n",
      " #   Column     Non-Null Count  Dtype  \n",
      "---  ------     --------------  -----  \n",
      " 0   Sno        197 non-null    int64  \n",
      " 1   TV         197 non-null    float64\n",
      " 2   Radio      197 non-null    float64\n",
      " 3   Newspaper  197 non-null    float64\n",
      " 4   Day        197 non-null    object \n",
      " 5   Sales      197 non-null    float64\n",
      "dtypes: float64(4), int64(1), object(1)\n",
      "memory usage: 10.8+ KB\n"
     ]
    }
   ],
   "source": [
    "adv.info()"
   ]
  },
  {
   "cell_type": "code",
   "execution_count": 8,
   "metadata": {},
   "outputs": [
    {
     "data": {
      "text/plain": [
       "array(['Weekend', 'Weekdays', 'Holiday'], dtype=object)"
      ]
     },
     "execution_count": 8,
     "metadata": {},
     "output_type": "execute_result"
    }
   ],
   "source": [
    "adv['Day'].unique()\n",
    "\n",
    "#Identify the column containing categorical variables"
   ]
  },
  {
   "cell_type": "code",
   "execution_count": 9,
   "metadata": {},
   "outputs": [
    {
     "data": {
      "text/html": [
       "<div>\n",
       "<style scoped>\n",
       "    .dataframe tbody tr th:only-of-type {\n",
       "        vertical-align: middle;\n",
       "    }\n",
       "\n",
       "    .dataframe tbody tr th {\n",
       "        vertical-align: top;\n",
       "    }\n",
       "\n",
       "    .dataframe thead th {\n",
       "        text-align: right;\n",
       "    }\n",
       "</style>\n",
       "<table border=\"1\" class=\"dataframe\">\n",
       "  <thead>\n",
       "    <tr style=\"text-align: right;\">\n",
       "      <th></th>\n",
       "      <th>Holiday</th>\n",
       "      <th>Weekdays</th>\n",
       "      <th>Weekend</th>\n",
       "    </tr>\n",
       "  </thead>\n",
       "  <tbody>\n",
       "    <tr>\n",
       "      <th>0</th>\n",
       "      <td>0</td>\n",
       "      <td>0</td>\n",
       "      <td>1</td>\n",
       "    </tr>\n",
       "    <tr>\n",
       "      <th>1</th>\n",
       "      <td>0</td>\n",
       "      <td>1</td>\n",
       "      <td>0</td>\n",
       "    </tr>\n",
       "    <tr>\n",
       "      <th>2</th>\n",
       "      <td>0</td>\n",
       "      <td>1</td>\n",
       "      <td>0</td>\n",
       "    </tr>\n",
       "    <tr>\n",
       "      <th>3</th>\n",
       "      <td>0</td>\n",
       "      <td>1</td>\n",
       "      <td>0</td>\n",
       "    </tr>\n",
       "    <tr>\n",
       "      <th>4</th>\n",
       "      <td>0</td>\n",
       "      <td>1</td>\n",
       "      <td>0</td>\n",
       "    </tr>\n",
       "  </tbody>\n",
       "</table>\n",
       "</div>"
      ],
      "text/plain": [
       "   Holiday  Weekdays  Weekend\n",
       "0        0         0        1\n",
       "1        0         1        0\n",
       "2        0         1        0\n",
       "3        0         1        0\n",
       "4        0         1        0"
      ]
     },
     "execution_count": 9,
     "metadata": {},
     "output_type": "execute_result"
    }
   ],
   "source": [
    "pd.get_dummies(adv['Day'])[0:5]\n",
    "\n",
    "#Assign dummy variables to the data and print top 15 rows"
   ]
  },
  {
   "cell_type": "code",
   "execution_count": 10,
   "metadata": {},
   "outputs": [],
   "source": [
    "categorical_features = ['Day']"
   ]
  },
  {
   "cell_type": "code",
   "execution_count": 11,
   "metadata": {},
   "outputs": [
    {
     "name": "stdout",
     "output_type": "stream",
     "text": [
      "Index(['Sno', 'TV', 'Radio', 'Newspaper', 'Day', 'Sales'], dtype='object')\n"
     ]
    }
   ],
   "source": [
    "X_features = adv.columns\n",
    "print(X_features)"
   ]
  },
  {
   "cell_type": "code",
   "execution_count": 12,
   "metadata": {},
   "outputs": [],
   "source": [
    "X_features = X_features.drop('Sales')"
   ]
  },
  {
   "cell_type": "code",
   "execution_count": 13,
   "metadata": {},
   "outputs": [
    {
     "name": "stdout",
     "output_type": "stream",
     "text": [
      "Index(['Sno', 'TV', 'Radio', 'Newspaper', 'Day'], dtype='object')\n"
     ]
    }
   ],
   "source": [
    "print(X_features)"
   ]
  },
  {
   "cell_type": "code",
   "execution_count": 14,
   "metadata": {},
   "outputs": [],
   "source": [
    "adv_encoded = pd.get_dummies(adv[X_features], columns = categorical_features)"
   ]
  },
  {
   "cell_type": "code",
   "execution_count": 15,
   "metadata": {},
   "outputs": [
    {
     "name": "stdout",
     "output_type": "stream",
     "text": [
      "Index(['Sno', 'TV', 'Radio', 'Newspaper', 'Day_Holiday', 'Day_Weekdays',\n",
      "       'Day_Weekend'],\n",
      "      dtype='object')\n"
     ]
    }
   ],
   "source": [
    "print(adv_encoded.columns)"
   ]
  },
  {
   "cell_type": "code",
   "execution_count": 16,
   "metadata": {},
   "outputs": [
    {
     "data": {
      "text/html": [
       "<div>\n",
       "<style scoped>\n",
       "    .dataframe tbody tr th:only-of-type {\n",
       "        vertical-align: middle;\n",
       "    }\n",
       "\n",
       "    .dataframe tbody tr th {\n",
       "        vertical-align: top;\n",
       "    }\n",
       "\n",
       "    .dataframe thead th {\n",
       "        text-align: right;\n",
       "    }\n",
       "</style>\n",
       "<table border=\"1\" class=\"dataframe\">\n",
       "  <thead>\n",
       "    <tr style=\"text-align: right;\">\n",
       "      <th></th>\n",
       "      <th>Sno</th>\n",
       "      <th>TV</th>\n",
       "      <th>Radio</th>\n",
       "      <th>Newspaper</th>\n",
       "      <th>Sales</th>\n",
       "    </tr>\n",
       "  </thead>\n",
       "  <tbody>\n",
       "    <tr>\n",
       "      <th>count</th>\n",
       "      <td>197.000000</td>\n",
       "      <td>197.000000</td>\n",
       "      <td>197.000000</td>\n",
       "      <td>197.000000</td>\n",
       "      <td>197.000000</td>\n",
       "    </tr>\n",
       "    <tr>\n",
       "      <th>mean</th>\n",
       "      <td>101.375635</td>\n",
       "      <td>146.242132</td>\n",
       "      <td>23.152284</td>\n",
       "      <td>30.375635</td>\n",
       "      <td>14.102030</td>\n",
       "    </tr>\n",
       "    <tr>\n",
       "      <th>std</th>\n",
       "      <td>57.818691</td>\n",
       "      <td>85.439138</td>\n",
       "      <td>14.922793</td>\n",
       "      <td>20.972370</td>\n",
       "      <td>5.192302</td>\n",
       "    </tr>\n",
       "    <tr>\n",
       "      <th>min</th>\n",
       "      <td>1.000000</td>\n",
       "      <td>0.700000</td>\n",
       "      <td>0.000000</td>\n",
       "      <td>0.300000</td>\n",
       "      <td>1.600000</td>\n",
       "    </tr>\n",
       "    <tr>\n",
       "      <th>25%</th>\n",
       "      <td>52.000000</td>\n",
       "      <td>74.700000</td>\n",
       "      <td>9.900000</td>\n",
       "      <td>12.900000</td>\n",
       "      <td>10.400000</td>\n",
       "    </tr>\n",
       "    <tr>\n",
       "      <th>50%</th>\n",
       "      <td>102.000000</td>\n",
       "      <td>149.700000</td>\n",
       "      <td>22.300000</td>\n",
       "      <td>25.900000</td>\n",
       "      <td>12.900000</td>\n",
       "    </tr>\n",
       "    <tr>\n",
       "      <th>75%</th>\n",
       "      <td>151.000000</td>\n",
       "      <td>218.400000</td>\n",
       "      <td>36.500000</td>\n",
       "      <td>45.100000</td>\n",
       "      <td>17.400000</td>\n",
       "    </tr>\n",
       "    <tr>\n",
       "      <th>max</th>\n",
       "      <td>200.000000</td>\n",
       "      <td>296.400000</td>\n",
       "      <td>49.600000</td>\n",
       "      <td>100.900000</td>\n",
       "      <td>27.000000</td>\n",
       "    </tr>\n",
       "  </tbody>\n",
       "</table>\n",
       "</div>"
      ],
      "text/plain": [
       "              Sno          TV       Radio   Newspaper       Sales\n",
       "count  197.000000  197.000000  197.000000  197.000000  197.000000\n",
       "mean   101.375635  146.242132   23.152284   30.375635   14.102030\n",
       "std     57.818691   85.439138   14.922793   20.972370    5.192302\n",
       "min      1.000000    0.700000    0.000000    0.300000    1.600000\n",
       "25%     52.000000   74.700000    9.900000   12.900000   10.400000\n",
       "50%    102.000000  149.700000   22.300000   25.900000   12.900000\n",
       "75%    151.000000  218.400000   36.500000   45.100000   17.400000\n",
       "max    200.000000  296.400000   49.600000  100.900000   27.000000"
      ]
     },
     "execution_count": 16,
     "metadata": {},
     "output_type": "execute_result"
    }
   ],
   "source": [
    "adv.describe()\n",
    "\n",
    "#Descriptive summary of all numerical variables"
   ]
  },
  {
   "cell_type": "code",
   "execution_count": 17,
   "metadata": {},
   "outputs": [],
   "source": [
    "#Importing visualization packages\n",
    "import seaborn as sn\n",
    "import matplotlib.pyplot as plt"
   ]
  },
  {
   "cell_type": "code",
   "execution_count": 18,
   "metadata": {},
   "outputs": [
    {
     "data": {
      "text/plain": [
       "<matplotlib.axes._subplots.AxesSubplot at 0x21256ac3448>"
      ]
     },
     "execution_count": 18,
     "metadata": {},
     "output_type": "execute_result"
    },
    {
     "data": {
      "image/png": "[encoded data removed]",
      "text/plain": [
       "<Figure size 432x288 with 1 Axes>"
      ]
     },
     "metadata": {
      "needs_background": "light"
     },
     "output_type": "display_data"
    }
   ],
   "source": [
    "sn.scatterplot(x = 'Radio', y = 'Sales', data = adv) \n",
    "\n",
    "#Scatterplot for TV and Sales"
   ]
  },
  {
   "cell_type": "code",
   "execution_count": 19,
   "metadata": {},
   "outputs": [
    {
     "data": {
      "image/png": "[encoded data removed]",
      "text/plain": [
       "<Figure size 432x288 with 1 Axes>"
      ]
     },
     "metadata": {
      "needs_background": "light"
     },
     "output_type": "display_data"
    }
   ],
   "source": [
    "sn.lineplot(x = \"Newspaper\", y = \"Sales\", data = adv)\n",
    "plt.show()  \n",
    "\n",
    "#Line Plot for Radio and Sales"
   ]
  },
  {
   "cell_type": "code",
   "execution_count": 22,
   "metadata": {},
   "outputs": [],
   "source": [
    "import statsmodels.api as sm\n",
    "from sklearn.model_selection import train_test_split\n",
    "\n",
    "X = sm.add_constant( adv_encoded )\n",
    "Y = adv['Sales']\n",
    "train_X, test_X, train_y, test_y = train_test_split( X, Y, train_size = 0.7, test_size = 0.3, random_state = 86 )\n",
    "\n",
    "#Adding constand term to matrix of features, splitting dataset into training and test dataset"
   ]
  },
  {
   "cell_type": "code",
   "execution_count": 25,
   "metadata": {},
   "outputs": [
    {
     "data": {
      "text/html": [
       "<table class=\"simpletable\">\n",
       "<tr>\n",
       "        <td>Model:</td>               <td>OLS</td>         <td>Adj. R-squared:</td>    <td>-0.009</td> \n",
       "</tr>\n",
       "<tr>\n",
       "  <td>Dependent Variable:</td>       <td>Sales</td>             <td>AIC:</td>         <td>837.1175</td>\n",
       "</tr>\n",
       "<tr>\n",
       "         <td>Date:</td>        <td>2020-08-12 00:00</td>        <td>BIC:</td>         <td>857.5574</td>\n",
       "</tr>\n",
       "<tr>\n",
       "   <td>No. Observations:</td>         <td>137</td>         <td>Log-Likelihood:</td>    <td>-411.56</td>\n",
       "</tr>\n",
       "<tr>\n",
       "       <td>Df Model:</td>              <td>6</td>           <td>F-statistic:</td>      <td>0.7969</td> \n",
       "</tr>\n",
       "<tr>\n",
       "     <td>Df Residuals:</td>           <td>130</td>       <td>Prob (F-statistic):</td>   <td>0.574</td> \n",
       "</tr>\n",
       "<tr>\n",
       "      <td>R-squared:</td>            <td>0.035</td>            <td>Scale:</td>         <td>25.096</td> \n",
       "</tr>\n",
       "</table>\n",
       "<table class=\"simpletable\">\n",
       "<tr>\n",
       "        <td></td>        <th>Coef.</th> <th>Std.Err.</th>    <th>t</th>    <th>P>|t|</th> <th>[0.025</th>  <th>0.975]</th> \n",
       "</tr>\n",
       "<tr>\n",
       "  <th>const</th>        <td>7.0701</td>  <td>1.7206</td>  <td>4.1090</td> <td>0.0001</td> <td>3.6660</td>  <td>10.4741</td>\n",
       "</tr>\n",
       "<tr>\n",
       "  <th>Sno</th>          <td>0.0074</td>  <td>0.0077</td>  <td>0.9599</td> <td>0.3389</td> <td>-0.0078</td> <td>0.0225</td> \n",
       "</tr>\n",
       "<tr>\n",
       "  <th>TV</th>           <td>0.0109</td>  <td>0.0075</td>  <td>1.4486</td> <td>0.1499</td> <td>-0.0040</td> <td>0.0257</td> \n",
       "</tr>\n",
       "<tr>\n",
       "  <th>Radio</th>        <td>0.0276</td>  <td>0.0318</td>  <td>0.8664</td> <td>0.3879</td> <td>-0.0354</td> <td>0.0905</td> \n",
       "</tr>\n",
       "<tr>\n",
       "  <th>Newspaper</th>    <td>0.0088</td>  <td>0.0233</td>  <td>0.3762</td> <td>0.7074</td> <td>-0.0374</td> <td>0.0550</td> \n",
       "</tr>\n",
       "<tr>\n",
       "  <th>Day_Holiday</th>  <td>0.1748</td>  <td>2.7784</td>  <td>0.0629</td> <td>0.9499</td> <td>-5.3220</td> <td>5.6715</td> \n",
       "</tr>\n",
       "<tr>\n",
       "  <th>Day_Weekdays</th> <td>4.0113</td>  <td>1.0406</td>  <td>3.8549</td> <td>0.0002</td> <td>1.9526</td>  <td>6.0699</td> \n",
       "</tr>\n",
       "<tr>\n",
       "  <th>Day_Weekend</th>  <td>2.8840</td>  <td>1.3826</td>  <td>2.0860</td> <td>0.0389</td> <td>0.1488</td>  <td>5.6193</td> \n",
       "</tr>\n",
       "</table>\n",
       "<table class=\"simpletable\">\n",
       "<tr>\n",
       "     <td>Omnibus:</td>    <td>5.400</td>  <td>Durbin-Watson:</td>          <td>1.830</td>       \n",
       "</tr>\n",
       "<tr>\n",
       "  <td>Prob(Omnibus):</td> <td>0.067</td> <td>Jarque-Bera (JB):</td>        <td>4.318</td>       \n",
       "</tr>\n",
       "<tr>\n",
       "       <td>Skew:</td>     <td>0.327</td>     <td>Prob(JB):</td>            <td>0.115</td>       \n",
       "</tr>\n",
       "<tr>\n",
       "     <td>Kurtosis:</td>   <td>2.427</td>  <td>Condition No.:</td>   <td>2913150788938797568</td>\n",
       "</tr>\n",
       "</table>"
      ],
      "text/plain": [
       "<class 'statsmodels.iolib.summary2.Summary'>\n",
       "\"\"\"\n",
       "                 Results: Ordinary least squares\n",
       "=================================================================\n",
       "Model:              OLS              Adj. R-squared:     -0.009  \n",
       "Dependent Variable: Sales            AIC:                837.1175\n",
       "Date:               2020-08-12 00:00 BIC:                857.5574\n",
       "No. Observations:   137              Log-Likelihood:     -411.56 \n",
       "Df Model:           6                F-statistic:        0.7969  \n",
       "Df Residuals:       130              Prob (F-statistic): 0.574   \n",
       "R-squared:          0.035            Scale:              25.096  \n",
       "------------------------------------------------------------------\n",
       "                Coef.   Std.Err.    t     P>|t|    [0.025   0.975]\n",
       "------------------------------------------------------------------\n",
       "const           7.0701    1.7206  4.1090  0.0001   3.6660  10.4741\n",
       "Sno             0.0074    0.0077  0.9599  0.3389  -0.0078   0.0225\n",
       "TV              0.0109    0.0075  1.4486  0.1499  -0.0040   0.0257\n",
       "Radio           0.0276    0.0318  0.8664  0.3879  -0.0354   0.0905\n",
       "Newspaper       0.0088    0.0233  0.3762  0.7074  -0.0374   0.0550\n",
       "Day_Holiday     0.1748    2.7784  0.0629  0.9499  -5.3220   5.6715\n",
       "Day_Weekdays    4.0113    1.0406  3.8549  0.0002   1.9526   6.0699\n",
       "Day_Weekend     2.8840    1.3826  2.0860  0.0389   0.1488   5.6193\n",
       "-----------------------------------------------------------------\n",
       "Omnibus:          5.400   Durbin-Watson:      1.830              \n",
       "Prob(Omnibus):    0.067   Jarque-Bera (JB):   4.318              \n",
       "Skew:             0.327   Prob(JB):           0.115              \n",
       "Kurtosis:         2.427   Condition No.:      2913150788938797568\n",
       "=================================================================\n",
       "* The condition number is large (3e+18). This might indicate\n",
       "strong multicollinearity or other numerical problems.\n",
       "\"\"\""
      ]
     },
     "execution_count": 25,
     "metadata": {},
     "output_type": "execute_result"
    }
   ],
   "source": [
    "adv_model_1 = sm.OLS(train_y, train_X).fit()\n",
    "adv_model_1.summary2()\n",
    "\n",
    "#Model fitting and understanding the summary of the model"
   ]
  },
  {
   "cell_type": "code",
   "execution_count": 26,
   "metadata": {},
   "outputs": [],
   "source": [
    "# Multicollinearity Test"
   ]
  },
  {
   "cell_type": "code",
   "execution_count": 52,
   "metadata": {},
   "outputs": [],
   "source": [
    "from statsmodels.stats.outliers_influence import variance_inflation_factor\n",
    "def get_vif_factors( X ):\n",
    "    X_matrix = X[:].to_numpy()\n",
    "    vif = [ variance_inflation_factor( X_matrix, i ) for i in range( X_matrix.shape[1] ) ]\n",
    "    vif_factors = pd.DataFrame()\n",
    "    vif_factors['column'] = X.columns\n",
    "    vif_factors['vif'] = vif\n",
    "    return vif_factors\n",
    "\n",
    "#creating VIF calculations"
   ]
  },
  {
   "cell_type": "code",
   "execution_count": 53,
   "metadata": {},
   "outputs": [
    {
     "data": {
      "text/html": [
       "<div>\n",
       "<style scoped>\n",
       "    .dataframe tbody tr th:only-of-type {\n",
       "        vertical-align: middle;\n",
       "    }\n",
       "\n",
       "    .dataframe tbody tr th {\n",
       "        vertical-align: top;\n",
       "    }\n",
       "\n",
       "    .dataframe thead th {\n",
       "        text-align: right;\n",
       "    }\n",
       "</style>\n",
       "<table border=\"1\" class=\"dataframe\">\n",
       "  <thead>\n",
       "    <tr style=\"text-align: right;\">\n",
       "      <th></th>\n",
       "      <th>column</th>\n",
       "      <th>vif</th>\n",
       "    </tr>\n",
       "  </thead>\n",
       "  <tbody>\n",
       "    <tr>\n",
       "      <th>0</th>\n",
       "      <td>Sno</td>\n",
       "      <td>1.044105</td>\n",
       "    </tr>\n",
       "    <tr>\n",
       "      <th>1</th>\n",
       "      <td>TV</td>\n",
       "      <td>1.981276</td>\n",
       "    </tr>\n",
       "    <tr>\n",
       "      <th>2</th>\n",
       "      <td>Radio</td>\n",
       "      <td>1.159367</td>\n",
       "    </tr>\n",
       "    <tr>\n",
       "      <th>3</th>\n",
       "      <td>Newspaper</td>\n",
       "      <td>1.187723</td>\n",
       "    </tr>\n",
       "    <tr>\n",
       "      <th>4</th>\n",
       "      <td>Day_Holiday</td>\n",
       "      <td>1.616170</td>\n",
       "    </tr>\n",
       "    <tr>\n",
       "      <th>5</th>\n",
       "      <td>Day_Weekdays</td>\n",
       "      <td>8.979078</td>\n",
       "    </tr>\n",
       "    <tr>\n",
       "      <th>6</th>\n",
       "      <td>Day_Weekend</td>\n",
       "      <td>6.191954</td>\n",
       "    </tr>\n",
       "  </tbody>\n",
       "</table>\n",
       "</div>"
      ],
      "text/plain": [
       "         column       vif\n",
       "0           Sno  1.044105\n",
       "1            TV  1.981276\n",
       "2         Radio  1.159367\n",
       "3     Newspaper  1.187723\n",
       "4   Day_Holiday  1.616170\n",
       "5  Day_Weekdays  8.979078\n",
       "6   Day_Weekend  6.191954"
      ]
     },
     "execution_count": 53,
     "metadata": {},
     "output_type": "execute_result"
    }
   ],
   "source": [
    "vif_factors = get_vif_factors( X[adv_encoded.columns] )\n",
    "vif_factors\n",
    "\n",
    "#Calculating VIF for the list of columns"
   ]
  },
  {
   "cell_type": "code",
   "execution_count": 54,
   "metadata": {},
   "outputs": [],
   "source": [
    "columns_with_large_vif = vif_factors[vif_factors.vif > 4].column\n",
    "\n",
    "#Removing columns with VIF > 4"
   ]
  },
  {
   "cell_type": "code",
   "execution_count": 55,
   "metadata": {},
   "outputs": [
    {
     "name": "stdout",
     "output_type": "stream",
     "text": [
      "5    Day_Weekdays\n",
      "6     Day_Weekend\n",
      "Name: column, dtype: object\n"
     ]
    }
   ],
   "source": [
    "print(columns_with_large_vif)"
   ]
  },
  {
   "cell_type": "code",
   "execution_count": 56,
   "metadata": {},
   "outputs": [],
   "source": [
    "columns_to_be_removed = ['Day_Weekdays']\n",
    "\n",
    "#Choosing Day_Weekdays column as it is redundant"
   ]
  },
  {
   "cell_type": "code",
   "execution_count": 57,
   "metadata": {},
   "outputs": [],
   "source": [
    "X_new_features = list( set(adv_encoded) - set(columns_to_be_removed) )\n",
    "\n",
    "#Removing Day_Weekday column as it is redundant"
   ]
  },
  {
   "cell_type": "code",
   "execution_count": 58,
   "metadata": {},
   "outputs": [
    {
     "name": "stdout",
     "output_type": "stream",
     "text": [
      "['Day_Holiday', 'Sno', 'TV', 'Day_Weekend', 'Radio', 'Newspaper']\n"
     ]
    }
   ],
   "source": [
    "print(X_new_features)"
   ]
  },
  {
   "cell_type": "code",
   "execution_count": 59,
   "metadata": {},
   "outputs": [],
   "source": [
    "# Model after eliminating multicollinearity"
   ]
  },
  {
   "cell_type": "code",
   "execution_count": 60,
   "metadata": {},
   "outputs": [
    {
     "data": {
      "text/html": [
       "<table class=\"simpletable\">\n",
       "<tr>\n",
       "          <td>Model:</td>                 <td>OLS</td>       <td>Adj. R-squared (uncentered):</td>   <td>0.842</td> \n",
       "</tr>\n",
       "<tr>\n",
       "    <td>Dependent Variable:</td>         <td>Sales</td>                  <td>AIC:</td>             <td>881.9334</td>\n",
       "</tr>\n",
       "<tr>\n",
       "           <td>Date:</td>          <td>2020-08-12 17:35</td>             <td>BIC:</td>             <td>899.4533</td>\n",
       "</tr>\n",
       "<tr>\n",
       "     <td>No. Observations:</td>           <td>137</td>              <td>Log-Likelihood:</td>        <td>-434.97</td>\n",
       "</tr>\n",
       "<tr>\n",
       "         <td>Df Model:</td>                <td>6</td>                <td>F-statistic:</td>           <td>122.8</td> \n",
       "</tr>\n",
       "<tr>\n",
       "       <td>Df Residuals:</td>             <td>131</td>            <td>Prob (F-statistic):</td>     <td>2.70e-51</td>\n",
       "</tr>\n",
       "<tr>\n",
       "  <td>R-squared (uncentered):</td>       <td>0.849</td>                 <td>Scale:</td>             <td>35.050</td> \n",
       "</tr>\n",
       "</table>\n",
       "<table class=\"simpletable\">\n",
       "<tr>\n",
       "       <td></td>        <th>Coef.</th>  <th>Std.Err.</th>    <th>t</th>     <th>P>|t|</th>  <th>[0.025</th>  <th>0.975]</th> \n",
       "</tr>\n",
       "<tr>\n",
       "  <th>Day_Holiday</th> <td>-7.5761</td>  <td>4.3137</td>  <td>-1.7563</td> <td>0.0814</td> <td>-16.1096</td> <td>0.9574</td> \n",
       "</tr>\n",
       "<tr>\n",
       "  <th>Sno</th>         <td>0.0382</td>   <td>0.0075</td>  <td>5.0595</td>  <td>0.0000</td>  <td>0.0233</td>  <td>0.0531</td> \n",
       "</tr>\n",
       "<tr>\n",
       "  <th>TV</th>          <td>0.0413</td>   <td>0.0074</td>  <td>5.6174</td>  <td>0.0000</td>  <td>0.0268</td>  <td>0.0559</td> \n",
       "</tr>\n",
       "<tr>\n",
       "  <th>Day_Weekend</th> <td>-4.2543</td>  <td>1.6353</td>  <td>-2.6016</td> <td>0.0103</td>  <td>-7.4893</td> <td>-1.0193</td>\n",
       "</tr>\n",
       "<tr>\n",
       "  <th>Radio</th>       <td>0.1120</td>   <td>0.0350</td>  <td>3.1997</td>  <td>0.0017</td>  <td>0.0427</td>  <td>0.1812</td> \n",
       "</tr>\n",
       "<tr>\n",
       "  <th>Newspaper</th>   <td>0.0543</td>   <td>0.0266</td>  <td>2.0420</td>  <td>0.0432</td>  <td>0.0017</td>  <td>0.1068</td> \n",
       "</tr>\n",
       "</table>\n",
       "<table class=\"simpletable\">\n",
       "<tr>\n",
       "     <td>Omnibus:</td>    <td>3.383</td>  <td>Durbin-Watson:</td>   <td>1.935</td>\n",
       "</tr>\n",
       "<tr>\n",
       "  <td>Prob(Omnibus):</td> <td>0.184</td> <td>Jarque-Bera (JB):</td> <td>3.126</td>\n",
       "</tr>\n",
       "<tr>\n",
       "       <td>Skew:</td>     <td>0.296</td>     <td>Prob(JB):</td>     <td>0.209</td>\n",
       "</tr>\n",
       "<tr>\n",
       "     <td>Kurtosis:</td>   <td>2.557</td>  <td>Condition No.:</td>   <td>1712</td> \n",
       "</tr>\n",
       "</table>"
      ],
      "text/plain": [
       "<class 'statsmodels.iolib.summary2.Summary'>\n",
       "\"\"\"\n",
       "                       Results: Ordinary least squares\n",
       "==============================================================================\n",
       "Model:                  OLS              Adj. R-squared (uncentered): 0.842   \n",
       "Dependent Variable:     Sales            AIC:                         881.9334\n",
       "Date:                   2020-08-12 17:35 BIC:                         899.4533\n",
       "No. Observations:       137              Log-Likelihood:              -434.97 \n",
       "Df Model:               6                F-statistic:                 122.8   \n",
       "Df Residuals:           131              Prob (F-statistic):          2.70e-51\n",
       "R-squared (uncentered): 0.849            Scale:                       35.050  \n",
       "---------------------------------------------------------------------------------\n",
       "                   Coef.     Std.Err.       t       P>|t|      [0.025      0.975]\n",
       "---------------------------------------------------------------------------------\n",
       "Day_Holiday       -7.5761      4.3137    -1.7563    0.0814    -16.1096     0.9574\n",
       "Sno                0.0382      0.0075     5.0595    0.0000      0.0233     0.0531\n",
       "TV                 0.0413      0.0074     5.6174    0.0000      0.0268     0.0559\n",
       "Day_Weekend       -4.2543      1.6353    -2.6016    0.0103     -7.4893    -1.0193\n",
       "Radio              0.1120      0.0350     3.1997    0.0017      0.0427     0.1812\n",
       "Newspaper          0.0543      0.0266     2.0420    0.0432      0.0017     0.1068\n",
       "------------------------------------------------------------------------------\n",
       "Omnibus:                   3.383            Durbin-Watson:               1.935\n",
       "Prob(Omnibus):             0.184            Jarque-Bera (JB):            3.126\n",
       "Skew:                      0.296            Prob(JB):                    0.209\n",
       "Kurtosis:                  2.557            Condition No.:               1712 \n",
       "==============================================================================\n",
       "* The condition number is large (2e+03). This might indicate\n",
       "strong multicollinearity or other numerical problems.\n",
       "\"\"\""
      ]
     },
     "execution_count": 60,
     "metadata": {},
     "output_type": "execute_result"
    }
   ],
   "source": [
    "train_X = train_X[X_new_features]\n",
    "adv_model_2 = sm.OLS(train_y, train_X).fit()\n",
    "adv_model_2.summary2()\n",
    "\n",
    "#Model fitting after VIF and removing redundant variable"
   ]
  },
  {
   "cell_type": "code",
   "execution_count": 61,
   "metadata": {},
   "outputs": [],
   "source": [
    "# Residual analysis"
   ]
  },
  {
   "cell_type": "code",
   "execution_count": 62,
   "metadata": {},
   "outputs": [],
   "source": [
    "import matplotlib.pyplot as plt\n",
    "import seaborn as sn\n",
    "%matplotlib inline\n",
    "def draw_pp_plot( model, title ):\n",
    "    probplot = sm.ProbPlot( model.resid );\n",
    "    plt.figure( figsize = (8, 6) );\n",
    "    probplot.ppplot( line='45' );\n",
    "    plt.title( title );\n",
    "    plt.show();\n",
    "    \n",
    "# PP Plot for checking normality assumption of residuals"
   ]
  },
  {
   "cell_type": "code",
   "execution_count": 63,
   "metadata": {},
   "outputs": [
    {
     "data": {
      "text/plain": [
       "<Figure size 576x432 with 0 Axes>"
      ]
     },
     "metadata": {},
     "output_type": "display_data"
    },
    {
     "data": {
      "image/png": "[encoded data removed]",
      "text/plain": [
       "<Figure size 432x288 with 1 Axes>"
      ]
     },
     "metadata": {
      "needs_background": "light"
     },
     "output_type": "display_data"
    }
   ],
   "source": [
    "draw_pp_plot( adv_model_2, \"Normal P-P Plot of Regression Standardized Residuals\");\n",
    "\n",
    "#Plotting graph for PP plot"
   ]
  },
  {
   "cell_type": "code",
   "execution_count": 64,
   "metadata": {},
   "outputs": [
    {
     "name": "stdout",
     "output_type": "stream",
     "text": [
      "Number of variables: 6  and number of observations: 137\n"
     ]
    }
   ],
   "source": [
    "k = train_X.shape[1]\n",
    "n = train_X.shape[0]\n",
    "\n",
    "print( \"Number of variables:\", k, \" and number of observations:\", n)"
   ]
  },
  {
   "cell_type": "code",
   "execution_count": 65,
   "metadata": {},
   "outputs": [
    {
     "name": "stdout",
     "output_type": "stream",
     "text": [
      "Number of variables: 6  and number of observations: 137\n",
      "Cutoff for leverage value:  0.153\n"
     ]
    }
   ],
   "source": [
    "k = train_X.shape[1]\n",
    "n = train_X.shape[0]\n",
    "print( \"Number of variables:\", k, \" and number of observations:\", n)\n",
    "leverage_cutoff = 3*((k + 1)/n)\n",
    "print( \"Cutoff for leverage value: \", round(leverage_cutoff, 3) )"
   ]
  },
  {
   "cell_type": "code",
   "execution_count": 68,
   "metadata": {},
   "outputs": [
    {
     "data": {
      "image/png": "[encoded data removed]",
      "text/plain": [
       "<Figure size 576x432 with 1 Axes>"
      ]
     },
     "metadata": {
      "needs_background": "light"
     },
     "output_type": "display_data"
    }
   ],
   "source": [
    "from statsmodels.graphics.regressionplots import influence_plot\n",
    "fig, ax = plt.subplots( figsize=(8,6) )\n",
    "influence_plot( adv_model_2, ax = ax )\n",
    "plt.title( \"Figure 4.7 - Leverage Value Vs Residuals\")\n",
    "plt.show()"
   ]
  },
  {
   "cell_type": "code",
   "execution_count": 72,
   "metadata": {},
   "outputs": [
    {
     "data": {
      "text/html": [
       "<div>\n",
       "<style scoped>\n",
       "    .dataframe tbody tr th:only-of-type {\n",
       "        vertical-align: middle;\n",
       "    }\n",
       "\n",
       "    .dataframe tbody tr th {\n",
       "        vertical-align: top;\n",
       "    }\n",
       "\n",
       "    .dataframe thead th {\n",
       "        text-align: right;\n",
       "    }\n",
       "</style>\n",
       "<table border=\"1\" class=\"dataframe\">\n",
       "  <thead>\n",
       "    <tr style=\"text-align: right;\">\n",
       "      <th></th>\n",
       "      <th>Sno</th>\n",
       "      <th>TV</th>\n",
       "      <th>Radio</th>\n",
       "      <th>Newspaper</th>\n",
       "      <th>Day</th>\n",
       "      <th>Sales</th>\n",
       "    </tr>\n",
       "  </thead>\n",
       "  <tbody>\n",
       "    <tr>\n",
       "      <th>122</th>\n",
       "      <td>123</td>\n",
       "      <td>224.0</td>\n",
       "      <td>2.4</td>\n",
       "      <td>15.6</td>\n",
       "      <td>Holiday</td>\n",
       "      <td>8.5</td>\n",
       "    </tr>\n",
       "    <tr>\n",
       "      <th>147</th>\n",
       "      <td>148</td>\n",
       "      <td>243.2</td>\n",
       "      <td>49.0</td>\n",
       "      <td>44.3</td>\n",
       "      <td>Holiday</td>\n",
       "      <td>15.0</td>\n",
       "    </tr>\n",
       "  </tbody>\n",
       "</table>\n",
       "</div>"
      ],
      "text/plain": [
       "     Sno     TV  Radio  Newspaper      Day  Sales\n",
       "122  123  224.0    2.4       15.6  Holiday    8.5\n",
       "147  148  243.2   49.0       44.3  Holiday   15.0"
      ]
     },
     "execution_count": 72,
     "metadata": {},
     "output_type": "execute_result"
    }
   ],
   "source": [
    "adv[adv.index.isin( [147, 122] )]"
   ]
  },
  {
   "cell_type": "code",
   "execution_count": 73,
   "metadata": {},
   "outputs": [],
   "source": [
    "train_X_new = train_X.drop( [122, 147], axis = 0)\n",
    "train_y_new = train_y.drop( [122, 147], axis = 0)"
   ]
  },
  {
   "cell_type": "code",
   "execution_count": 71,
   "metadata": {},
   "outputs": [],
   "source": [
    "import numpy as np\n",
    "train_y = np.sqrt( train_y )"
   ]
  },
  {
   "cell_type": "code",
   "execution_count": 74,
   "metadata": {},
   "outputs": [
    {
     "data": {
      "text/html": [
       "<table class=\"simpletable\">\n",
       "<tr>\n",
       "          <td>Model:</td>                 <td>OLS</td>       <td>Adj. R-squared (uncentered):</td>   <td>0.905</td> \n",
       "</tr>\n",
       "<tr>\n",
       "    <td>Dependent Variable:</td>         <td>Sales</td>                  <td>AIC:</td>             <td>433.9164</td>\n",
       "</tr>\n",
       "<tr>\n",
       "           <td>Date:</td>          <td>2020-08-12 17:51</td>             <td>BIC:</td>             <td>451.4363</td>\n",
       "</tr>\n",
       "<tr>\n",
       "     <td>No. Observations:</td>           <td>137</td>              <td>Log-Likelihood:</td>        <td>-210.96</td>\n",
       "</tr>\n",
       "<tr>\n",
       "         <td>Df Model:</td>                <td>6</td>                <td>F-statistic:</td>           <td>219.0</td> \n",
       "</tr>\n",
       "<tr>\n",
       "       <td>Df Residuals:</td>             <td>131</td>            <td>Prob (F-statistic):</td>     <td>9.63e-66</td>\n",
       "</tr>\n",
       "<tr>\n",
       "  <td>R-squared (uncentered):</td>       <td>0.909</td>                 <td>Scale:</td>             <td>1.3319</td> \n",
       "</tr>\n",
       "</table>\n",
       "<table class=\"simpletable\">\n",
       "<tr>\n",
       "       <td></td>        <th>Coef.</th>  <th>Std.Err.</th>    <th>t</th>     <th>P>|t|</th> <th>[0.025</th>  <th>0.975]</th> \n",
       "</tr>\n",
       "<tr>\n",
       "  <th>Day_Holiday</th> <td>-1.5918</td>  <td>0.8409</td>  <td>-1.8930</td> <td>0.0606</td> <td>-3.2552</td> <td>0.0717</td> \n",
       "</tr>\n",
       "<tr>\n",
       "  <th>Sno</th>         <td>0.0104</td>   <td>0.0015</td>  <td>7.0459</td>  <td>0.0000</td> <td>0.0075</td>  <td>0.0133</td> \n",
       "</tr>\n",
       "<tr>\n",
       "  <th>TV</th>          <td>0.0103</td>   <td>0.0014</td>  <td>7.1731</td>  <td>0.0000</td> <td>0.0074</td>  <td>0.0131</td> \n",
       "</tr>\n",
       "<tr>\n",
       "  <th>Day_Weekend</th> <td>-1.0312</td>  <td>0.3188</td>  <td>-3.2349</td> <td>0.0015</td> <td>-1.6618</td> <td>-0.4006</td>\n",
       "</tr>\n",
       "<tr>\n",
       "  <th>Radio</th>       <td>0.0289</td>   <td>0.0068</td>  <td>4.2417</td>  <td>0.0000</td> <td>0.0154</td>  <td>0.0424</td> \n",
       "</tr>\n",
       "<tr>\n",
       "  <th>Newspaper</th>   <td>0.0146</td>   <td>0.0052</td>  <td>2.8097</td>  <td>0.0057</td> <td>0.0043</td>  <td>0.0248</td> \n",
       "</tr>\n",
       "</table>\n",
       "<table class=\"simpletable\">\n",
       "<tr>\n",
       "     <td>Omnibus:</td>    <td>2.512</td>  <td>Durbin-Watson:</td>   <td>1.965</td>\n",
       "</tr>\n",
       "<tr>\n",
       "  <td>Prob(Omnibus):</td> <td>0.285</td> <td>Jarque-Bera (JB):</td> <td>1.946</td>\n",
       "</tr>\n",
       "<tr>\n",
       "       <td>Skew:</td>     <td>0.133</td>     <td>Prob(JB):</td>     <td>0.378</td>\n",
       "</tr>\n",
       "<tr>\n",
       "     <td>Kurtosis:</td>   <td>2.481</td>  <td>Condition No.:</td>   <td>1712</td> \n",
       "</tr>\n",
       "</table>"
      ],
      "text/plain": [
       "<class 'statsmodels.iolib.summary2.Summary'>\n",
       "\"\"\"\n",
       "                       Results: Ordinary least squares\n",
       "==============================================================================\n",
       "Model:                  OLS              Adj. R-squared (uncentered): 0.905   \n",
       "Dependent Variable:     Sales            AIC:                         433.9164\n",
       "Date:                   2020-08-12 17:51 BIC:                         451.4363\n",
       "No. Observations:       137              Log-Likelihood:              -210.96 \n",
       "Df Model:               6                F-statistic:                 219.0   \n",
       "Df Residuals:           131              Prob (F-statistic):          9.63e-66\n",
       "R-squared (uncentered): 0.909            Scale:                       1.3319  \n",
       "---------------------------------------------------------------------------------\n",
       "                    Coef.     Std.Err.       t       P>|t|      [0.025     0.975]\n",
       "---------------------------------------------------------------------------------\n",
       "Day_Holiday        -1.5918      0.8409    -1.8930    0.0606    -3.2552     0.0717\n",
       "Sno                 0.0104      0.0015     7.0459    0.0000     0.0075     0.0133\n",
       "TV                  0.0103      0.0014     7.1731    0.0000     0.0074     0.0131\n",
       "Day_Weekend        -1.0312      0.3188    -3.2349    0.0015    -1.6618    -0.4006\n",
       "Radio               0.0289      0.0068     4.2417    0.0000     0.0154     0.0424\n",
       "Newspaper           0.0146      0.0052     2.8097    0.0057     0.0043     0.0248\n",
       "------------------------------------------------------------------------------\n",
       "Omnibus:                   2.512            Durbin-Watson:               1.965\n",
       "Prob(Omnibus):             0.285            Jarque-Bera (JB):            1.946\n",
       "Skew:                      0.133            Prob(JB):                    0.378\n",
       "Kurtosis:                  2.481            Condition No.:               1712 \n",
       "==============================================================================\n",
       "* The condition number is large (2e+03). This might indicate\n",
       "strong multicollinearity or other numerical problems.\n",
       "\"\"\""
      ]
     },
     "execution_count": 74,
     "metadata": {},
     "output_type": "execute_result"
    }
   ],
   "source": [
    "adv_model_3 = sm.OLS(train_y, train_X).fit()\n",
    "adv_model_3.summary2()"
   ]
  },
  {
   "cell_type": "code",
   "execution_count": 75,
   "metadata": {},
   "outputs": [
    {
     "data": {
      "text/plain": [
       "<Figure size 576x432 with 0 Axes>"
      ]
     },
     "metadata": {},
     "output_type": "display_data"
    },
    {
     "data": {
      "image/png": "[encoded data removed]",
      "text/plain": [
       "<Figure size 432x288 with 1 Axes>"
      ]
     },
     "metadata": {
      "needs_background": "light"
     },
     "output_type": "display_data"
    }
   ],
   "source": [
    "draw_pp_plot( adv_model_3,\"Normal P-P Plot of Regression Standardized Residuals\");"
   ]
  },
  {
   "cell_type": "code",
   "execution_count": 76,
   "metadata": {},
   "outputs": [],
   "source": [
    "pred_y = np.power(adv_model_3.predict( test_X[train_X.columns] ), 2)"
   ]
  },
  {
   "cell_type": "code",
   "execution_count": 78,
   "metadata": {},
   "outputs": [
    {
     "data": {
      "text/plain": [
       "10.993617996894153"
      ]
     },
     "execution_count": 78,
     "metadata": {},
     "output_type": "execute_result"
    }
   ],
   "source": [
    "from sklearn import metrics\n",
    "np.sqrt(metrics.mean_squared_error(pred_y, test_y))"
   ]
  },
  {
   "cell_type": "code",
   "execution_count": null,
   "metadata": {},
   "outputs": [],
   "source": []
  }
 ],
 "metadata": {
  "kernelspec": {
   "display_name": "Python 3",
   "language": "python",
   "name": "python3"
  },
  "language_info": {
   "codemirror_mode": {
    "name": "ipython",
    "version": 3
   },
   "file_extension": ".py",
   "mimetype": "text/x-python",
   "name": "python",
   "nbconvert_exporter": "python",
   "pygments_lexer": "ipython3",
   "version": "3.7.6"
  }
 },
 "nbformat": 4,
 "nbformat_minor": 4
}
