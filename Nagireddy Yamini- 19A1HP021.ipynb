{
 "cells": [
  {
   "cell_type": "markdown",
   "metadata": {},
   "source": [
    "# NAGIREDDY YAMINI - 19A1HP021"
   ]
  },
  {
   "cell_type": "code",
   "execution_count": 1,
   "metadata": {},
   "outputs": [],
   "source": [
    "# Importing the libraries\n",
    "import numpy as np\n",
    "import pandas as pd"
   ]
  },
  {
   "cell_type": "code",
   "execution_count": 2,
   "metadata": {},
   "outputs": [],
   "source": [
    "adv = pd.read_csv(r'Advertising.csv')\n",
    "\n",
    "#Reads data into pandas dataframe"
   ]
  },
  {
   "cell_type": "code",
   "execution_count": 3,
   "metadata": {},
   "outputs": [
    {
     "name": "stdout",
     "output_type": "stream",
     "text": [
      "<class 'pandas.core.frame.DataFrame'>\n",
      "RangeIndex: 200 entries, 0 to 199\n",
      "Data columns (total 6 columns):\n",
      " #   Column     Non-Null Count  Dtype  \n",
      "---  ------     --------------  -----  \n",
      " 0   Sno        200 non-null    int64  \n",
      " 1   TV         199 non-null    float64\n",
      " 2   Radio      199 non-null    float64\n",
      " 3   Newspaper  199 non-null    float64\n",
      " 4   Day        197 non-null    object \n",
      " 5   Sales      200 non-null    float64\n",
      "dtypes: float64(4), int64(1), object(1)\n",
      "memory usage: 9.5+ KB\n"
     ]
    }
   ],
   "source": [
    "adv.info()\n",
    "\n",
    "#Gives information about the datatypes found in the dataset"
   ]
  },
  {
   "cell_type": "code",
   "execution_count": 4,
   "metadata": {},
   "outputs": [],
   "source": [
    "adv = adv.dropna()\n",
    "\n",
    "#Drops missing values from the dataset"
   ]
  },
  {
   "cell_type": "code",
   "execution_count": 5,
   "metadata": {},
   "outputs": [
    {
     "name": "stdout",
     "output_type": "stream",
     "text": [
      "<class 'pandas.core.frame.DataFrame'>\n",
      "Int64Index: 197 entries, 0 to 199\n",
      "Data columns (total 6 columns):\n",
      " #   Column     Non-Null Count  Dtype  \n",
      "---  ------     --------------  -----  \n",
      " 0   Sno        197 non-null    int64  \n",
      " 1   TV         197 non-null    float64\n",
      " 2   Radio      197 non-null    float64\n",
      " 3   Newspaper  197 non-null    float64\n",
      " 4   Day        197 non-null    object \n",
      " 5   Sales      197 non-null    float64\n",
      "dtypes: float64(4), int64(1), object(1)\n",
      "memory usage: 10.8+ KB\n"
     ]
    }
   ],
   "source": [
    "adv.info()"
   ]
  },
  {
   "cell_type": "code",
   "execution_count": 6,
   "metadata": {},
   "outputs": [
    {
     "data": {
      "text/plain": [
       "array(['Weekend', 'Weekdays', 'Holiday'], dtype=object)"
      ]
     },
     "execution_count": 6,
     "metadata": {},
     "output_type": "execute_result"
    }
   ],
   "source": [
    "adv['Day'].unique()\n",
    "\n",
    "#Identify the column containing categorical variables"
   ]
  },
  {
   "cell_type": "code",
   "execution_count": 7,
   "metadata": {},
   "outputs": [
    {
     "data": {
      "text/html": [
       "<div>\n",
       "<style scoped>\n",
       "    .dataframe tbody tr th:only-of-type {\n",
       "        vertical-align: middle;\n",
       "    }\n",
       "\n",
       "    .dataframe tbody tr th {\n",
       "        vertical-align: top;\n",
       "    }\n",
       "\n",
       "    .dataframe thead th {\n",
       "        text-align: right;\n",
       "    }\n",
       "</style>\n",
       "<table border=\"1\" class=\"dataframe\">\n",
       "  <thead>\n",
       "    <tr style=\"text-align: right;\">\n",
       "      <th></th>\n",
       "      <th>Holiday</th>\n",
       "      <th>Weekdays</th>\n",
       "      <th>Weekend</th>\n",
       "    </tr>\n",
       "  </thead>\n",
       "  <tbody>\n",
       "    <tr>\n",
       "      <th>0</th>\n",
       "      <td>0</td>\n",
       "      <td>0</td>\n",
       "      <td>1</td>\n",
       "    </tr>\n",
       "    <tr>\n",
       "      <th>1</th>\n",
       "      <td>0</td>\n",
       "      <td>1</td>\n",
       "      <td>0</td>\n",
       "    </tr>\n",
       "    <tr>\n",
       "      <th>2</th>\n",
       "      <td>0</td>\n",
       "      <td>1</td>\n",
       "      <td>0</td>\n",
       "    </tr>\n",
       "    <tr>\n",
       "      <th>3</th>\n",
       "      <td>0</td>\n",
       "      <td>1</td>\n",
       "      <td>0</td>\n",
       "    </tr>\n",
       "    <tr>\n",
       "      <th>4</th>\n",
       "      <td>0</td>\n",
       "      <td>1</td>\n",
       "      <td>0</td>\n",
       "    </tr>\n",
       "  </tbody>\n",
       "</table>\n",
       "</div>"
      ],
      "text/plain": [
       "   Holiday  Weekdays  Weekend\n",
       "0        0         0        1\n",
       "1        0         1        0\n",
       "2        0         1        0\n",
       "3        0         1        0\n",
       "4        0         1        0"
      ]
     },
     "execution_count": 7,
     "metadata": {},
     "output_type": "execute_result"
    }
   ],
   "source": [
    "pd.get_dummies(adv['Day'])[0:5]\n",
    "\n",
    "#Assign dummy variables to the data and print top 15 rows"
   ]
  },
  {
   "cell_type": "code",
   "execution_count": 8,
   "metadata": {},
   "outputs": [],
   "source": [
    "categorical_features = ['Day']"
   ]
  },
  {
   "cell_type": "code",
   "execution_count": 9,
   "metadata": {},
   "outputs": [
    {
     "name": "stdout",
     "output_type": "stream",
     "text": [
      "Index(['Sno', 'TV', 'Radio', 'Newspaper', 'Day', 'Sales'], dtype='object')\n"
     ]
    }
   ],
   "source": [
    "X_features = adv.columns\n",
    "print(X_features)"
   ]
  },
  {
   "cell_type": "code",
   "execution_count": 10,
   "metadata": {},
   "outputs": [],
   "source": [
    "X_features = X_features.drop('Sno','Sales')"
   ]
  },
  {
   "cell_type": "code",
   "execution_count": 11,
   "metadata": {},
   "outputs": [
    {
     "name": "stdout",
     "output_type": "stream",
     "text": [
      "Index(['TV', 'Radio', 'Newspaper', 'Day', 'Sales'], dtype='object')\n"
     ]
    }
   ],
   "source": [
    "print(X_features)"
   ]
  },
  {
   "cell_type": "code",
   "execution_count": 12,
   "metadata": {},
   "outputs": [],
   "source": [
    "adv_encoded = pd.get_dummies(adv[X_features], columns = categorical_features)"
   ]
  },
  {
   "cell_type": "code",
   "execution_count": 13,
   "metadata": {},
   "outputs": [
    {
     "name": "stdout",
     "output_type": "stream",
     "text": [
      "Index(['TV', 'Radio', 'Newspaper', 'Sales', 'Day_Holiday', 'Day_Weekdays',\n",
      "       'Day_Weekend'],\n",
      "      dtype='object')\n"
     ]
    }
   ],
   "source": [
    "print(adv_encoded.columns)"
   ]
  },
  {
   "cell_type": "code",
   "execution_count": 14,
   "metadata": {},
   "outputs": [
    {
     "data": {
      "text/html": [
       "<div>\n",
       "<style scoped>\n",
       "    .dataframe tbody tr th:only-of-type {\n",
       "        vertical-align: middle;\n",
       "    }\n",
       "\n",
       "    .dataframe tbody tr th {\n",
       "        vertical-align: top;\n",
       "    }\n",
       "\n",
       "    .dataframe thead th {\n",
       "        text-align: right;\n",
       "    }\n",
       "</style>\n",
       "<table border=\"1\" class=\"dataframe\">\n",
       "  <thead>\n",
       "    <tr style=\"text-align: right;\">\n",
       "      <th></th>\n",
       "      <th>Sno</th>\n",
       "      <th>TV</th>\n",
       "      <th>Radio</th>\n",
       "      <th>Newspaper</th>\n",
       "      <th>Sales</th>\n",
       "    </tr>\n",
       "  </thead>\n",
       "  <tbody>\n",
       "    <tr>\n",
       "      <th>count</th>\n",
       "      <td>197.000000</td>\n",
       "      <td>197.000000</td>\n",
       "      <td>197.000000</td>\n",
       "      <td>197.000000</td>\n",
       "      <td>197.000000</td>\n",
       "    </tr>\n",
       "    <tr>\n",
       "      <th>mean</th>\n",
       "      <td>101.375635</td>\n",
       "      <td>146.242132</td>\n",
       "      <td>23.152284</td>\n",
       "      <td>30.375635</td>\n",
       "      <td>14.102030</td>\n",
       "    </tr>\n",
       "    <tr>\n",
       "      <th>std</th>\n",
       "      <td>57.818691</td>\n",
       "      <td>85.439138</td>\n",
       "      <td>14.922793</td>\n",
       "      <td>20.972370</td>\n",
       "      <td>5.192302</td>\n",
       "    </tr>\n",
       "    <tr>\n",
       "      <th>min</th>\n",
       "      <td>1.000000</td>\n",
       "      <td>0.700000</td>\n",
       "      <td>0.000000</td>\n",
       "      <td>0.300000</td>\n",
       "      <td>1.600000</td>\n",
       "    </tr>\n",
       "    <tr>\n",
       "      <th>25%</th>\n",
       "      <td>52.000000</td>\n",
       "      <td>74.700000</td>\n",
       "      <td>9.900000</td>\n",
       "      <td>12.900000</td>\n",
       "      <td>10.400000</td>\n",
       "    </tr>\n",
       "    <tr>\n",
       "      <th>50%</th>\n",
       "      <td>102.000000</td>\n",
       "      <td>149.700000</td>\n",
       "      <td>22.300000</td>\n",
       "      <td>25.900000</td>\n",
       "      <td>12.900000</td>\n",
       "    </tr>\n",
       "    <tr>\n",
       "      <th>75%</th>\n",
       "      <td>151.000000</td>\n",
       "      <td>218.400000</td>\n",
       "      <td>36.500000</td>\n",
       "      <td>45.100000</td>\n",
       "      <td>17.400000</td>\n",
       "    </tr>\n",
       "    <tr>\n",
       "      <th>max</th>\n",
       "      <td>200.000000</td>\n",
       "      <td>296.400000</td>\n",
       "      <td>49.600000</td>\n",
       "      <td>100.900000</td>\n",
       "      <td>27.000000</td>\n",
       "    </tr>\n",
       "  </tbody>\n",
       "</table>\n",
       "</div>"
      ],
      "text/plain": [
       "              Sno          TV       Radio   Newspaper       Sales\n",
       "count  197.000000  197.000000  197.000000  197.000000  197.000000\n",
       "mean   101.375635  146.242132   23.152284   30.375635   14.102030\n",
       "std     57.818691   85.439138   14.922793   20.972370    5.192302\n",
       "min      1.000000    0.700000    0.000000    0.300000    1.600000\n",
       "25%     52.000000   74.700000    9.900000   12.900000   10.400000\n",
       "50%    102.000000  149.700000   22.300000   25.900000   12.900000\n",
       "75%    151.000000  218.400000   36.500000   45.100000   17.400000\n",
       "max    200.000000  296.400000   49.600000  100.900000   27.000000"
      ]
     },
     "execution_count": 14,
     "metadata": {},
     "output_type": "execute_result"
    }
   ],
   "source": [
    "adv.describe()\n",
    "\n",
    "#Descriptive summary of all numerical variables"
   ]
  },
  {
   "cell_type": "code",
   "execution_count": 15,
   "metadata": {},
   "outputs": [],
   "source": [
    "#Importing visualization packages\n",
    "import seaborn as sn\n",
    "import matplotlib.pyplot as plt"
   ]
  },
  {
   "cell_type": "code",
   "execution_count": 16,
   "metadata": {},
   "outputs": [
    {
     "data": {
      "text/plain": [
       "<matplotlib.axes._subplots.AxesSubplot at 0x245af37d188>"
      ]
     },
     "execution_count": 16,
     "metadata": {},
     "output_type": "execute_result"
    },
    {
     "data": {
      "image/png": "[encoded data removed]",
      "text/plain": [
       "<Figure size 432x288 with 1 Axes>"
      ]
     },
     "metadata": {
      "needs_background": "light"
     },
     "output_type": "display_data"
    }
   ],
   "source": [
    "sn.scatterplot(x = 'Radio', y = 'Sales', data = adv) \n",
    "\n",
    "#Scatterplot for TV and Sales"
   ]
  },
  {
   "cell_type": "code",
   "execution_count": 17,
   "metadata": {},
   "outputs": [
    {
     "data": {
      "image/png": "[encoded data removed]",
      "text/plain": [
       "<Figure size 432x288 with 1 Axes>"
      ]
     },
     "metadata": {
      "needs_background": "light"
     },
     "output_type": "display_data"
    }
   ],
   "source": [
    "sn.lineplot(x = \"Newspaper\", y = \"Sales\", data = adv)\n",
    "plt.show()  \n",
    "\n",
    "#Line Plot for Radio and Sales"
   ]
  },
  {
   "cell_type": "code",
   "execution_count": 18,
   "metadata": {},
   "outputs": [],
   "source": [
    "import warnings\n",
    "warnings.filterwarnings('ignore')\n",
    "\n",
    "import statsmodels.api as sm\n",
    "from sklearn.model_selection import train_test_split\n",
    "\n",
    "X = sm.add_constant( adv_encoded )\n",
    "Y = adv['Sales']\n",
    "train_X, test_X, train_y, test_y = train_test_split( X, Y, train_size = 0.7, test_size = 0.3, random_state = 86 )\n",
    "\n",
    "#Adding constand term to matrix of features, splitting dataset into training and test dataset"
   ]
  },
  {
   "cell_type": "code",
   "execution_count": 19,
   "metadata": {},
   "outputs": [
    {
     "data": {
      "text/html": [
       "<table class=\"simpletable\">\n",
       "<tr>\n",
       "        <td>Model:</td>               <td>OLS</td>         <td>Adj. R-squared:</td>      <td>1.000</td>  \n",
       "</tr>\n",
       "<tr>\n",
       "  <td>Dependent Variable:</td>       <td>Sales</td>             <td>AIC:</td>         <td>-7958.0496</td>\n",
       "</tr>\n",
       "<tr>\n",
       "         <td>Date:</td>        <td>2020-08-25 17:42</td>        <td>BIC:</td>         <td>-7937.6097</td>\n",
       "</tr>\n",
       "<tr>\n",
       "   <td>No. Observations:</td>         <td>137</td>         <td>Log-Likelihood:</td>     <td>3986.0</td>  \n",
       "</tr>\n",
       "<tr>\n",
       "       <td>Df Model:</td>              <td>6</td>           <td>F-statistic:</td>      <td>1.708e+29</td>\n",
       "</tr>\n",
       "<tr>\n",
       "     <td>Df Residuals:</td>           <td>130</td>       <td>Prob (F-statistic):</td>    <td>0.00</td>   \n",
       "</tr>\n",
       "<tr>\n",
       "      <td>R-squared:</td>            <td>1.000</td>            <td>Scale:</td>        <td>3.3010e-27</td>\n",
       "</tr>\n",
       "</table>\n",
       "<table class=\"simpletable\">\n",
       "<tr>\n",
       "        <td></td>        <th>Coef.</th>  <th>Std.Err.</th>           <th>t</th>           <th>P>|t|</th> <th>[0.025</th>  <th>0.975]</th> \n",
       "</tr>\n",
       "<tr>\n",
       "  <th>const</th>        <td>-0.0000</td>  <td>0.0000</td>         <td>-0.1795</td>       <td>0.8578</td> <td>-0.0000</td> <td>0.0000</td> \n",
       "</tr>\n",
       "<tr>\n",
       "  <th>TV</th>           <td>-0.0000</td>  <td>0.0000</td>         <td>-3.5255</td>       <td>0.0006</td> <td>-0.0000</td> <td>-0.0000</td>\n",
       "</tr>\n",
       "<tr>\n",
       "  <th>Radio</th>        <td>-0.0000</td>  <td>0.0000</td>         <td>-0.9897</td>       <td>0.3242</td> <td>-0.0000</td> <td>0.0000</td> \n",
       "</tr>\n",
       "<tr>\n",
       "  <th>Newspaper</th>    <td>0.0000</td>   <td>0.0000</td>         <td>0.8076</td>        <td>0.4208</td> <td>-0.0000</td> <td>0.0000</td> \n",
       "</tr>\n",
       "<tr>\n",
       "  <th>Sales</th>        <td>1.0000</td>   <td>0.0000</td>  <td>997675265275974.8750</td> <td>0.0000</td> <td>1.0000</td>  <td>1.0000</td> \n",
       "</tr>\n",
       "<tr>\n",
       "  <th>Day_Holiday</th>  <td>-0.0000</td>  <td>0.0000</td>         <td>-0.0845</td>       <td>0.9328</td> <td>-0.0000</td> <td>0.0000</td> \n",
       "</tr>\n",
       "<tr>\n",
       "  <th>Day_Weekdays</th> <td>-0.0000</td>  <td>0.0000</td>         <td>-0.1068</td>       <td>0.9151</td> <td>-0.0000</td> <td>0.0000</td> \n",
       "</tr>\n",
       "<tr>\n",
       "  <th>Day_Weekend</th>  <td>-0.0000</td>  <td>0.0000</td>         <td>-0.0276</td>       <td>0.9781</td> <td>-0.0000</td> <td>0.0000</td> \n",
       "</tr>\n",
       "</table>\n",
       "<table class=\"simpletable\">\n",
       "<tr>\n",
       "     <td>Omnibus:</td>    <td>30.495</td>  <td>Durbin-Watson:</td>          <td>0.404</td>       \n",
       "</tr>\n",
       "<tr>\n",
       "  <td>Prob(Omnibus):</td>  <td>0.000</td> <td>Jarque-Bera (JB):</td>        <td>6.749</td>       \n",
       "</tr>\n",
       "<tr>\n",
       "       <td>Skew:</td>     <td>-0.055</td>     <td>Prob(JB):</td>            <td>0.034</td>       \n",
       "</tr>\n",
       "<tr>\n",
       "     <td>Kurtosis:</td>    <td>1.918</td>  <td>Condition No.:</td>   <td>1796547954831637760</td>\n",
       "</tr>\n",
       "</table>"
      ],
      "text/plain": [
       "<class 'statsmodels.iolib.summary2.Summary'>\n",
       "\"\"\"\n",
       "                     Results: Ordinary least squares\n",
       "=========================================================================\n",
       "Model:                OLS                Adj. R-squared:       1.000     \n",
       "Dependent Variable:   Sales              AIC:                  -7958.0496\n",
       "Date:                 2020-08-25 17:42   BIC:                  -7937.6097\n",
       "No. Observations:     137                Log-Likelihood:       3986.0    \n",
       "Df Model:             6                  F-statistic:          1.708e+29 \n",
       "Df Residuals:         130                Prob (F-statistic):   0.00      \n",
       "R-squared:            1.000              Scale:                3.3010e-27\n",
       "-------------------------------------------------------------------------\n",
       "              Coef.  Std.Err.          t           P>|t|   [0.025  0.975]\n",
       "-------------------------------------------------------------------------\n",
       "const        -0.0000   0.0000              -0.1795 0.8578 -0.0000  0.0000\n",
       "TV           -0.0000   0.0000              -3.5255 0.0006 -0.0000 -0.0000\n",
       "Radio        -0.0000   0.0000              -0.9897 0.3242 -0.0000  0.0000\n",
       "Newspaper     0.0000   0.0000               0.8076 0.4208 -0.0000  0.0000\n",
       "Sales         1.0000   0.0000 997675265275974.8750 0.0000  1.0000  1.0000\n",
       "Day_Holiday  -0.0000   0.0000              -0.0845 0.9328 -0.0000  0.0000\n",
       "Day_Weekdays -0.0000   0.0000              -0.1068 0.9151 -0.0000  0.0000\n",
       "Day_Weekend  -0.0000   0.0000              -0.0276 0.9781 -0.0000  0.0000\n",
       "-------------------------------------------------------------------------\n",
       "Omnibus:             30.495     Durbin-Watson:        0.404              \n",
       "Prob(Omnibus):       0.000      Jarque-Bera (JB):     6.749              \n",
       "Skew:                -0.055     Prob(JB):             0.034              \n",
       "Kurtosis:            1.918      Condition No.:        1796547954831637760\n",
       "=========================================================================\n",
       "* The condition number is large (2e+18). This might indicate\n",
       "strong multicollinearity or other numerical problems.\n",
       "\"\"\""
      ]
     },
     "execution_count": 19,
     "metadata": {},
     "output_type": "execute_result"
    }
   ],
   "source": [
    "adv_model_1 = sm.OLS(train_y, train_X).fit()\n",
    "adv_model_1.summary2()\n",
    "\n",
    "#Model fitting and understanding the summary of the model"
   ]
  },
  {
   "cell_type": "code",
   "execution_count": 20,
   "metadata": {},
   "outputs": [],
   "source": [
    "# Multicollinearity Test"
   ]
  },
  {
   "cell_type": "code",
   "execution_count": 21,
   "metadata": {},
   "outputs": [],
   "source": [
    "from statsmodels.stats.outliers_influence import variance_inflation_factor\n",
    "def get_vif_factors( X ):\n",
    "    X_matrix = X[:].to_numpy()\n",
    "    vif = [ variance_inflation_factor( X_matrix, i ) for i in range( X_matrix.shape[1] ) ]\n",
    "    vif_factors = pd.DataFrame()\n",
    "    vif_factors['column'] = X.columns\n",
    "    vif_factors['vif'] = vif\n",
    "    return vif_factors\n",
    "\n",
    "#creating VIF calculations"
   ]
  },
  {
   "cell_type": "code",
   "execution_count": 22,
   "metadata": {},
   "outputs": [
    {
     "data": {
      "text/html": [
       "<div>\n",
       "<style scoped>\n",
       "    .dataframe tbody tr th:only-of-type {\n",
       "        vertical-align: middle;\n",
       "    }\n",
       "\n",
       "    .dataframe tbody tr th {\n",
       "        vertical-align: top;\n",
       "    }\n",
       "\n",
       "    .dataframe thead th {\n",
       "        text-align: right;\n",
       "    }\n",
       "</style>\n",
       "<table border=\"1\" class=\"dataframe\">\n",
       "  <thead>\n",
       "    <tr style=\"text-align: right;\">\n",
       "      <th></th>\n",
       "      <th>column</th>\n",
       "      <th>vif</th>\n",
       "    </tr>\n",
       "  </thead>\n",
       "  <tbody>\n",
       "    <tr>\n",
       "      <th>0</th>\n",
       "      <td>TV</td>\n",
       "      <td>1.983566</td>\n",
       "    </tr>\n",
       "    <tr>\n",
       "      <th>1</th>\n",
       "      <td>Radio</td>\n",
       "      <td>1.155898</td>\n",
       "    </tr>\n",
       "    <tr>\n",
       "      <th>2</th>\n",
       "      <td>Newspaper</td>\n",
       "      <td>1.170206</td>\n",
       "    </tr>\n",
       "    <tr>\n",
       "      <th>3</th>\n",
       "      <td>Sales</td>\n",
       "      <td>1.004523</td>\n",
       "    </tr>\n",
       "    <tr>\n",
       "      <th>4</th>\n",
       "      <td>Day_Holiday</td>\n",
       "      <td>1.560849</td>\n",
       "    </tr>\n",
       "    <tr>\n",
       "      <th>5</th>\n",
       "      <td>Day_Weekdays</td>\n",
       "      <td>11.291646</td>\n",
       "    </tr>\n",
       "    <tr>\n",
       "      <th>6</th>\n",
       "      <td>Day_Weekend</td>\n",
       "      <td>6.883175</td>\n",
       "    </tr>\n",
       "  </tbody>\n",
       "</table>\n",
       "</div>"
      ],
      "text/plain": [
       "         column        vif\n",
       "0            TV   1.983566\n",
       "1         Radio   1.155898\n",
       "2     Newspaper   1.170206\n",
       "3         Sales   1.004523\n",
       "4   Day_Holiday   1.560849\n",
       "5  Day_Weekdays  11.291646\n",
       "6   Day_Weekend   6.883175"
      ]
     },
     "execution_count": 22,
     "metadata": {},
     "output_type": "execute_result"
    }
   ],
   "source": [
    "vif_factors = get_vif_factors( X[adv_encoded.columns] )\n",
    "vif_factors\n",
    "\n",
    "#Calculating VIF for the list of columns"
   ]
  },
  {
   "cell_type": "code",
   "execution_count": 23,
   "metadata": {},
   "outputs": [],
   "source": [
    "columns_with_large_vif = vif_factors[vif_factors.vif > 4].column\n",
    "\n",
    "#Removing columns with VIF > 4"
   ]
  },
  {
   "cell_type": "code",
   "execution_count": 24,
   "metadata": {},
   "outputs": [
    {
     "name": "stdout",
     "output_type": "stream",
     "text": [
      "5    Day_Weekdays\n",
      "6     Day_Weekend\n",
      "Name: column, dtype: object\n"
     ]
    }
   ],
   "source": [
    "print(columns_with_large_vif)"
   ]
  },
  {
   "cell_type": "code",
   "execution_count": 25,
   "metadata": {},
   "outputs": [],
   "source": [
    "columns_to_be_removed = ['Day_Weekdays']\n",
    "\n",
    "#Choosing Day_Weekdays column as it is redundant"
   ]
  },
  {
   "cell_type": "code",
   "execution_count": 26,
   "metadata": {},
   "outputs": [],
   "source": [
    "X_new_features = list( set(adv_encoded) - set(columns_to_be_removed) )\n",
    "\n",
    "#Removing Day_Weekday column as it is redundant"
   ]
  },
  {
   "cell_type": "code",
   "execution_count": 27,
   "metadata": {},
   "outputs": [
    {
     "name": "stdout",
     "output_type": "stream",
     "text": [
      "['TV', 'Day_Weekend', 'Sales', 'Day_Holiday', 'Radio', 'Newspaper']\n"
     ]
    }
   ],
   "source": [
    "print(X_new_features)"
   ]
  },
  {
   "cell_type": "code",
   "execution_count": 28,
   "metadata": {},
   "outputs": [],
   "source": [
    "# Model after eliminating multicollinearity"
   ]
  },
  {
   "cell_type": "code",
   "execution_count": 29,
   "metadata": {},
   "outputs": [
    {
     "data": {
      "text/html": [
       "<table class=\"simpletable\">\n",
       "<tr>\n",
       "          <td>Model:</td>                 <td>OLS</td>       <td>Adj. R-squared (uncentered):</td>    <td>1.000</td>  \n",
       "</tr>\n",
       "<tr>\n",
       "    <td>Dependent Variable:</td>         <td>Sales</td>                  <td>AIC:</td>             <td>-8467.6357</td>\n",
       "</tr>\n",
       "<tr>\n",
       "           <td>Date:</td>          <td>2020-08-25 17:42</td>             <td>BIC:</td>             <td>-8450.1159</td>\n",
       "</tr>\n",
       "<tr>\n",
       "     <td>No. Observations:</td>           <td>137</td>              <td>Log-Likelihood:</td>         <td>4239.8</td>  \n",
       "</tr>\n",
       "<tr>\n",
       "         <td>Df Model:</td>                <td>6</td>                <td>F-statistic:</td>          <td>6.290e+31</td>\n",
       "</tr>\n",
       "<tr>\n",
       "       <td>Df Residuals:</td>             <td>131</td>            <td>Prob (F-statistic):</td>        <td>0.00</td>   \n",
       "</tr>\n",
       "<tr>\n",
       "  <td>R-squared (uncentered):</td>       <td>1.000</td>                 <td>Scale:</td>            <td>8.0585e-29</td>\n",
       "</tr>\n",
       "</table>\n",
       "<table class=\"simpletable\">\n",
       "<tr>\n",
       "       <td></td>        <th>Coef.</th>  <th>Std.Err.</th>           <th>t</th>            <th>P>|t|</th> <th>[0.025</th>  <th>0.975]</th> \n",
       "</tr>\n",
       "<tr>\n",
       "  <th>TV</th>          <td>-0.0000</td>  <td>0.0000</td>         <td>-3.4656</td>        <td>0.0007</td> <td>-0.0000</td> <td>-0.0000</td>\n",
       "</tr>\n",
       "<tr>\n",
       "  <th>Day_Weekend</th> <td>-0.0000</td>  <td>0.0000</td>         <td>-0.7110</td>        <td>0.4783</td> <td>-0.0000</td> <td>0.0000</td> \n",
       "</tr>\n",
       "<tr>\n",
       "  <th>Sales</th>       <td>1.0000</td>   <td>0.0000</td>  <td>8253038452217119.0000</td> <td>0.0000</td> <td>1.0000</td>  <td>1.0000</td> \n",
       "</tr>\n",
       "<tr>\n",
       "  <th>Day_Holiday</th> <td>0.0000</td>   <td>0.0000</td>         <td>0.2687</td>         <td>0.7886</td> <td>-0.0000</td> <td>0.0000</td> \n",
       "</tr>\n",
       "<tr>\n",
       "  <th>Radio</th>       <td>-0.0000</td>  <td>0.0000</td>         <td>-1.6383</td>        <td>0.1038</td> <td>-0.0000</td> <td>0.0000</td> \n",
       "</tr>\n",
       "<tr>\n",
       "  <th>Newspaper</th>   <td>-0.0000</td>  <td>0.0000</td>         <td>-6.1043</td>        <td>0.0000</td> <td>-0.0000</td> <td>-0.0000</td>\n",
       "</tr>\n",
       "</table>\n",
       "<table class=\"simpletable\">\n",
       "<tr>\n",
       "     <td>Omnibus:</td>    <td>2.666</td>  <td>Durbin-Watson:</td>   <td>1.939</td>\n",
       "</tr>\n",
       "<tr>\n",
       "  <td>Prob(Omnibus):</td> <td>0.264</td> <td>Jarque-Bera (JB):</td> <td>2.000</td>\n",
       "</tr>\n",
       "<tr>\n",
       "       <td>Skew:</td>     <td>0.127</td>     <td>Prob(JB):</td>     <td>0.368</td>\n",
       "</tr>\n",
       "<tr>\n",
       "     <td>Kurtosis:</td>   <td>2.466</td>  <td>Condition No.:</td>   <td>1534</td> \n",
       "</tr>\n",
       "</table>"
      ],
      "text/plain": [
       "<class 'statsmodels.iolib.summary2.Summary'>\n",
       "\"\"\"\n",
       "                        Results: Ordinary least squares\n",
       "================================================================================\n",
       "Model:                  OLS              Adj. R-squared (uncentered): 1.000     \n",
       "Dependent Variable:     Sales            AIC:                         -8467.6357\n",
       "Date:                   2020-08-25 17:42 BIC:                         -8450.1159\n",
       "No. Observations:       137              Log-Likelihood:              4239.8    \n",
       "Df Model:               6                F-statistic:                 6.290e+31 \n",
       "Df Residuals:           131              Prob (F-statistic):          0.00      \n",
       "R-squared (uncentered): 1.000            Scale:                       8.0585e-29\n",
       "---------------------------------------------------------------------------------\n",
       "                Coef.   Std.Err.            t            P>|t|    [0.025   0.975]\n",
       "---------------------------------------------------------------------------------\n",
       "TV             -0.0000    0.0000                -3.4656  0.0007  -0.0000  -0.0000\n",
       "Day_Weekend    -0.0000    0.0000                -0.7110  0.4783  -0.0000   0.0000\n",
       "Sales           1.0000    0.0000  8253038452217119.0000  0.0000   1.0000   1.0000\n",
       "Day_Holiday     0.0000    0.0000                 0.2687  0.7886  -0.0000   0.0000\n",
       "Radio          -0.0000    0.0000                -1.6383  0.1038  -0.0000   0.0000\n",
       "Newspaper      -0.0000    0.0000                -6.1043  0.0000  -0.0000  -0.0000\n",
       "--------------------------------------------------------------------------------\n",
       "Omnibus:                   2.666             Durbin-Watson:                1.939\n",
       "Prob(Omnibus):             0.264             Jarque-Bera (JB):             2.000\n",
       "Skew:                      0.127             Prob(JB):                     0.368\n",
       "Kurtosis:                  2.466             Condition No.:                1534 \n",
       "================================================================================\n",
       "* The condition number is large (2e+03). This might indicate             strong\n",
       "multicollinearity or other numerical problems.\n",
       "\"\"\""
      ]
     },
     "execution_count": 29,
     "metadata": {},
     "output_type": "execute_result"
    }
   ],
   "source": [
    "train_X = train_X[X_new_features]\n",
    "adv_model_2 = sm.OLS(train_y, train_X).fit()\n",
    "adv_model_2.summary2()\n",
    "\n",
    "#Model fitting after VIF and removing redundant variable"
   ]
  },
  {
   "cell_type": "code",
   "execution_count": 30,
   "metadata": {},
   "outputs": [],
   "source": [
    "# Residual analysis"
   ]
  },
  {
   "cell_type": "code",
   "execution_count": 31,
   "metadata": {},
   "outputs": [],
   "source": [
    "import matplotlib.pyplot as plt\n",
    "import seaborn as sn\n",
    "%matplotlib inline\n",
    "def draw_pp_plot( model, title ):\n",
    "    probplot = sm.ProbPlot( model.resid );\n",
    "    plt.figure( figsize = (8, 6) );\n",
    "    probplot.ppplot( line='45' );\n",
    "    plt.title( title );\n",
    "    plt.show();\n",
    "    \n",
    "# PP Plot for checking normality assumption of residuals"
   ]
  },
  {
   "cell_type": "code",
   "execution_count": 32,
   "metadata": {},
   "outputs": [
    {
     "data": {
      "text/plain": [
       "<Figure size 576x432 with 0 Axes>"
      ]
     },
     "metadata": {},
     "output_type": "display_data"
    },
    {
     "data": {
      "image/png": "[encoded data removed]",
      "text/plain": [
       "<Figure size 432x288 with 1 Axes>"
      ]
     },
     "metadata": {
      "needs_background": "light"
     },
     "output_type": "display_data"
    }
   ],
   "source": [
    "draw_pp_plot( adv_model_2, \"Normal P-P Plot of Regression Standardized Residuals\");\n",
    "\n",
    "#Plotting graph for PP plot"
   ]
  },
  {
   "cell_type": "code",
   "execution_count": 33,
   "metadata": {},
   "outputs": [
    {
     "name": "stdout",
     "output_type": "stream",
     "text": [
      "Number of variables: 6  and number of observations: 137\n"
     ]
    }
   ],
   "source": [
    "k = train_X.shape[1]\n",
    "n = train_X.shape[0]\n",
    "\n",
    "print( \"Number of variables:\", k, \" and number of observations:\", n)"
   ]
  },
  {
   "cell_type": "code",
   "execution_count": 34,
   "metadata": {},
   "outputs": [
    {
     "name": "stdout",
     "output_type": "stream",
     "text": [
      "Number of variables: 6  and number of observations: 137\n",
      "Cutoff for leverage value:  0.153\n"
     ]
    }
   ],
   "source": [
    "k = train_X.shape[1]\n",
    "n = train_X.shape[0]\n",
    "print( \"Number of variables:\", k, \" and number of observations:\", n)\n",
    "leverage_cutoff = 3*((k + 1)/n)\n",
    "print( \"Cutoff for leverage value: \", round(leverage_cutoff, 3) )"
   ]
  },
  {
   "cell_type": "code",
   "execution_count": 35,
   "metadata": {},
   "outputs": [
    {
     "data": {
      "image/png": "[encoded data removed]",
      "text/plain": [
       "<Figure size 576x432 with 1 Axes>"
      ]
     },
     "metadata": {
      "needs_background": "light"
     },
     "output_type": "display_data"
    }
   ],
   "source": [
    "from statsmodels.graphics.regressionplots import influence_plot\n",
    "fig, ax = plt.subplots( figsize=(8,6) )\n",
    "influence_plot( adv_model_2, ax = ax )\n",
    "plt.title( \"Figure 4.7 - Leverage Value Vs Residuals\")\n",
    "plt.show()"
   ]
  },
  {
   "cell_type": "code",
   "execution_count": 36,
   "metadata": {},
   "outputs": [
    {
     "data": {
      "text/html": [
       "<div>\n",
       "<style scoped>\n",
       "    .dataframe tbody tr th:only-of-type {\n",
       "        vertical-align: middle;\n",
       "    }\n",
       "\n",
       "    .dataframe tbody tr th {\n",
       "        vertical-align: top;\n",
       "    }\n",
       "\n",
       "    .dataframe thead th {\n",
       "        text-align: right;\n",
       "    }\n",
       "</style>\n",
       "<table border=\"1\" class=\"dataframe\">\n",
       "  <thead>\n",
       "    <tr style=\"text-align: right;\">\n",
       "      <th></th>\n",
       "      <th>Sno</th>\n",
       "      <th>TV</th>\n",
       "      <th>Radio</th>\n",
       "      <th>Newspaper</th>\n",
       "      <th>Day</th>\n",
       "      <th>Sales</th>\n",
       "    </tr>\n",
       "  </thead>\n",
       "  <tbody>\n",
       "    <tr>\n",
       "      <th>122</th>\n",
       "      <td>123</td>\n",
       "      <td>224.0</td>\n",
       "      <td>2.4</td>\n",
       "      <td>15.6</td>\n",
       "      <td>Holiday</td>\n",
       "      <td>8.5</td>\n",
       "    </tr>\n",
       "    <tr>\n",
       "      <th>147</th>\n",
       "      <td>148</td>\n",
       "      <td>243.2</td>\n",
       "      <td>49.0</td>\n",
       "      <td>44.3</td>\n",
       "      <td>Holiday</td>\n",
       "      <td>15.0</td>\n",
       "    </tr>\n",
       "  </tbody>\n",
       "</table>\n",
       "</div>"
      ],
      "text/plain": [
       "     Sno     TV  Radio  Newspaper      Day  Sales\n",
       "122  123  224.0    2.4       15.6  Holiday    8.5\n",
       "147  148  243.2   49.0       44.3  Holiday   15.0"
      ]
     },
     "execution_count": 36,
     "metadata": {},
     "output_type": "execute_result"
    }
   ],
   "source": [
    "adv[adv.index.isin( [147, 122] )]"
   ]
  },
  {
   "cell_type": "code",
   "execution_count": 37,
   "metadata": {},
   "outputs": [],
   "source": [
    "train_X_new = train_X.drop( [122, 147], axis = 0)\n",
    "train_y_new = train_y.drop( [122, 147], axis = 0)"
   ]
  },
  {
   "cell_type": "code",
   "execution_count": 38,
   "metadata": {},
   "outputs": [],
   "source": [
    "import numpy as np\n",
    "train_y = np.sqrt( train_y )"
   ]
  },
  {
   "cell_type": "code",
   "execution_count": 39,
   "metadata": {},
   "outputs": [
    {
     "data": {
      "text/html": [
       "<table class=\"simpletable\">\n",
       "<tr>\n",
       "          <td>Model:</td>                 <td>OLS</td>       <td>Adj. R-squared (uncentered):</td>   <td>0.984</td>  \n",
       "</tr>\n",
       "<tr>\n",
       "    <td>Dependent Variable:</td>         <td>Sales</td>                  <td>AIC:</td>             <td>194.3149</td> \n",
       "</tr>\n",
       "<tr>\n",
       "           <td>Date:</td>          <td>2020-08-25 17:42</td>             <td>BIC:</td>             <td>211.8348</td> \n",
       "</tr>\n",
       "<tr>\n",
       "     <td>No. Observations:</td>           <td>137</td>              <td>Log-Likelihood:</td>        <td>-91.157</td> \n",
       "</tr>\n",
       "<tr>\n",
       "         <td>Df Model:</td>                <td>6</td>                <td>F-statistic:</td>           <td>1362.</td>  \n",
       "</tr>\n",
       "<tr>\n",
       "       <td>Df Residuals:</td>             <td>131</td>            <td>Prob (F-statistic):</td>     <td>2.00e-115</td>\n",
       "</tr>\n",
       "<tr>\n",
       "  <td>R-squared (uncentered):</td>       <td>0.984</td>                 <td>Scale:</td>             <td>0.23170</td> \n",
       "</tr>\n",
       "</table>\n",
       "<table class=\"simpletable\">\n",
       "<tr>\n",
       "       <td></td>        <th>Coef.</th>  <th>Std.Err.</th>    <th>t</th>     <th>P>|t|</th> <th>[0.025</th>  <th>0.975]</th> \n",
       "</tr>\n",
       "<tr>\n",
       "  <th>TV</th>          <td>0.0037</td>   <td>0.0006</td>  <td>5.7143</td>  <td>0.0000</td> <td>0.0024</td>  <td>0.0050</td> \n",
       "</tr>\n",
       "<tr>\n",
       "  <th>Day_Weekend</th> <td>-0.3925</td>  <td>0.1340</td>  <td>-2.9299</td> <td>0.0040</td> <td>-0.6575</td> <td>-0.1275</td>\n",
       "</tr>\n",
       "<tr>\n",
       "  <th>Sales</th>       <td>0.1957</td>   <td>0.0065</td>  <td>30.1233</td> <td>0.0000</td> <td>0.1829</td>  <td>0.2086</td> \n",
       "</tr>\n",
       "<tr>\n",
       "  <th>Day_Holiday</th> <td>-0.1377</td>  <td>0.3545</td>  <td>-0.3886</td> <td>0.6982</td> <td>-0.8389</td> <td>0.5635</td> \n",
       "</tr>\n",
       "<tr>\n",
       "  <th>Radio</th>       <td>0.0092</td>   <td>0.0030</td>  <td>3.1204</td>  <td>0.0022</td> <td>0.0034</td>  <td>0.0151</td> \n",
       "</tr>\n",
       "<tr>\n",
       "  <th>Newspaper</th>   <td>0.0045</td>   <td>0.0022</td>  <td>2.0643</td>  <td>0.0410</td> <td>0.0002</td>  <td>0.0089</td> \n",
       "</tr>\n",
       "</table>\n",
       "<table class=\"simpletable\">\n",
       "<tr>\n",
       "     <td>Omnibus:</td>    <td>10.584</td>  <td>Durbin-Watson:</td>    <td>1.662</td>\n",
       "</tr>\n",
       "<tr>\n",
       "  <td>Prob(Omnibus):</td>  <td>0.005</td> <td>Jarque-Bera (JB):</td> <td>11.113</td>\n",
       "</tr>\n",
       "<tr>\n",
       "       <td>Skew:</td>     <td>-0.694</td>     <td>Prob(JB):</td>      <td>0.004</td>\n",
       "</tr>\n",
       "<tr>\n",
       "     <td>Kurtosis:</td>    <td>3.142</td>  <td>Condition No.:</td>    <td>1534</td> \n",
       "</tr>\n",
       "</table>"
      ],
      "text/plain": [
       "<class 'statsmodels.iolib.summary2.Summary'>\n",
       "\"\"\"\n",
       "                        Results: Ordinary least squares\n",
       "===============================================================================\n",
       "Model:                  OLS              Adj. R-squared (uncentered): 0.984    \n",
       "Dependent Variable:     Sales            AIC:                         194.3149 \n",
       "Date:                   2020-08-25 17:42 BIC:                         211.8348 \n",
       "No. Observations:       137              Log-Likelihood:              -91.157  \n",
       "Df Model:               6                F-statistic:                 1362.    \n",
       "Df Residuals:           131              Prob (F-statistic):          2.00e-115\n",
       "R-squared (uncentered): 0.984            Scale:                       0.23170  \n",
       "-----------------------------------------------------------------------------------\n",
       "                 Coef.      Std.Err.        t        P>|t|       [0.025      0.975]\n",
       "-----------------------------------------------------------------------------------\n",
       "TV               0.0037       0.0006      5.7143     0.0000      0.0024      0.0050\n",
       "Day_Weekend     -0.3925       0.1340     -2.9299     0.0040     -0.6575     -0.1275\n",
       "Sales            0.1957       0.0065     30.1233     0.0000      0.1829      0.2086\n",
       "Day_Holiday     -0.1377       0.3545     -0.3886     0.6982     -0.8389      0.5635\n",
       "Radio            0.0092       0.0030      3.1204     0.0022      0.0034      0.0151\n",
       "Newspaper        0.0045       0.0022      2.0643     0.0410      0.0002      0.0089\n",
       "-------------------------------------------------------------------------------\n",
       "Omnibus:                  10.584            Durbin-Watson:               1.662 \n",
       "Prob(Omnibus):            0.005             Jarque-Bera (JB):            11.113\n",
       "Skew:                     -0.694            Prob(JB):                    0.004 \n",
       "Kurtosis:                 3.142             Condition No.:               1534  \n",
       "===============================================================================\n",
       "* The condition number is large (2e+03). This might indicate             strong\n",
       "multicollinearity or other numerical problems.\n",
       "\"\"\""
      ]
     },
     "execution_count": 39,
     "metadata": {},
     "output_type": "execute_result"
    }
   ],
   "source": [
    "adv_model_3 = sm.OLS(train_y, train_X).fit()\n",
    "adv_model_3.summary2()"
   ]
  },
  {
   "cell_type": "code",
   "execution_count": 40,
   "metadata": {},
   "outputs": [
    {
     "data": {
      "text/plain": [
       "<Figure size 576x432 with 0 Axes>"
      ]
     },
     "metadata": {},
     "output_type": "display_data"
    },
    {
     "data": {
      "image/png": "[encoded data removed]",
      "text/plain": [
       "<Figure size 432x288 with 1 Axes>"
      ]
     },
     "metadata": {
      "needs_background": "light"
     },
     "output_type": "display_data"
    }
   ],
   "source": [
    "draw_pp_plot( adv_model_3,\"Normal P-P Plot of Regression Standardized Residuals\");"
   ]
  },
  {
   "cell_type": "code",
   "execution_count": 41,
   "metadata": {},
   "outputs": [],
   "source": [
    "pred_y = np.power(adv_model_3.predict( test_X[train_X.columns] ), 2)"
   ]
  },
  {
   "cell_type": "code",
   "execution_count": 42,
   "metadata": {},
   "outputs": [
    {
     "data": {
      "text/plain": [
       "3.8643207320501776"
      ]
     },
     "execution_count": 42,
     "metadata": {},
     "output_type": "execute_result"
    }
   ],
   "source": [
    "from sklearn import metrics\n",
    "np.sqrt(metrics.mean_squared_error(pred_y, test_y))"
   ]
  },
  {
   "cell_type": "code",
   "execution_count": 43,
   "metadata": {},
   "outputs": [],
   "source": [
    "#considering the coefficients obtained from model 2\n",
    "#NMLR equation:Y = Ratio(X1) + Newspaper(X2) + TV(X3) + Day_Weekend(X4) + Day_Holiday(X5)\n",
    "\n",
    "#Y = (0.1409*35.8) + (0.0621*44.6) + (0.0609*13.2) + (-6.8142*1) + (-7.9553*0)\n",
    "#Y = 1.80356\n",
    "#Predicted sales"
   ]
  },
  {
   "cell_type": "code",
   "execution_count": null,
   "metadata": {},
   "outputs": [],
   "source": []
  }
 ],
 "metadata": {
  "kernelspec": {
   "display_name": "Python 3",
   "language": "python",
   "name": "python3"
  },
  "language_info": {
   "codemirror_mode": {
    "name": "ipython",
    "version": 3
   },
   "file_extension": ".py",
   "mimetype": "text/x-python",
   "name": "python",
   "nbconvert_exporter": "python",
   "pygments_lexer": "ipython3",
   "version": "3.7.6"
  }
 },
 "nbformat": 4,
 "nbformat_minor": 4
}
